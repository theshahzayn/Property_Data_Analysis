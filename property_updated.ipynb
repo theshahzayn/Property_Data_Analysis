{
 "cells": [
  {
   "cell_type": "code",
   "execution_count": null,
   "id": "2f6382c1-6f63-4820-a668-7abdace84132",
   "metadata": {
    "ExecuteTime": {
     "end_time": "2023-11-25T17:14:20.243274Z",
     "start_time": "2023-11-25T17:14:20.200970800Z"
    }
   },
   "outputs": [],
   "source": [
    "import pandas as pd\n",
    "import numpy as np\n",
    "\n",
    "df = pd.read_csv(\"zameen-updated.csv\")\n",
    "print(df.shape)\n",
    "df.head()"
   ]
  },
  {
   "cell_type": "code",
   "execution_count": null,
   "id": "e14c91c5-1b33-4d25-9e0e-5a5ab8b42f80",
   "metadata": {},
   "outputs": [],
   "source": [
    "df.describe()"
   ]
  },
  {
   "cell_type": "markdown",
   "id": "bd2b3d6a-e873-41b9-9f41-43b6fe906fbb",
   "metadata": {
    "jp-MarkdownHeadingCollapsed": true
   },
   "source": [
    "# Counting Null Values"
   ]
  },
  {
   "cell_type": "code",
   "execution_count": null,
   "id": "52793118-ef84-4977-a1d1-786b8550f698",
   "metadata": {},
   "outputs": [],
   "source": [
    "# Null values in each column\n",
    "null_values = df.isna().sum()\n",
    "null_values"
   ]
  },
  {
   "cell_type": "code",
   "execution_count": null,
   "id": "7da7c2e7-1de2-4046-a279-957c159815aa",
   "metadata": {},
   "outputs": [],
   "source": [
    "# Missing values in each column\n",
    "missing_values = df.isnull().sum()\n",
    "missing_values"
   ]
  },
  {
   "cell_type": "code",
   "execution_count": null,
   "id": "8d95e04a-6e33-4e53-abd5-ee353bdfb5b5",
   "metadata": {
    "ExecuteTime": {
     "end_time": "2023-11-25T17:14:04.251998500Z",
     "start_time": "2023-11-25T17:14:04.163923Z"
    },
    "scrolled": true
   },
   "outputs": [],
   "source": [
    "#drop url column as not much need \n",
    "df = df.drop([\"page_url\",\"property_id\"], axis = 1)"
   ]
  },
  {
   "cell_type": "markdown",
   "id": "5c54311e-be4a-4736-af7d-cde4a12b3899",
   "metadata": {},
   "source": [
    "# Creating New Columns"
   ]
  },
  {
   "cell_type": "code",
   "execution_count": null,
   "id": "ecb20590-916b-441d-aaae-0e70cc3e63e7",
   "metadata": {},
   "outputs": [],
   "source": [
    "#filling vacant space to 0\n",
    "df.fillna(0)\n",
    "\n",
    "# To Standardize area. Converting kanal to marla\n",
    "kanal_to_marla = 20\n",
    "\n",
    "def conversion(row):\n",
    "    if row['Area Type'] == \"Kanal\":\n",
    "        return row['Area Size'] * kanal_to_marla \n",
    "    elif row['Area Type'] == \"Marla\":\n",
    "        return row['Area Size']\n",
    "\n",
    "df['Area(Marla)'] = df.apply(conversion, axis=1)\n",
    "\n",
    "#We are also extracting Date, Month, Year from Date to new columns (might needed in future)\n",
    "\n",
    "df['date_added'] = pd.to_datetime(df[\"date_added\"], format=\"%m/%d/%Y\")\n",
    "\n",
    "df.insert(14, \"Day\", df[\"date_added\"].dt.day)\n",
    "df.insert(15, \"Month\", df[\"date_added\"].dt.month)\n",
    "df.insert(16, \"Year\", df[\"date_added\"].dt.year) #dt is accessor\n",
    "\n",
    "df.head()"
   ]
  },
  {
   "cell_type": "markdown",
   "id": "29d08847-d27b-4d02-95ea-846eaf259721",
   "metadata": {},
   "source": [
    "# Cleaning Data"
   ]
  },
  {
   "cell_type": "code",
   "execution_count": null,
   "id": "f808ecf6673eb078",
   "metadata": {
    "collapsed": false,
    "jupyter": {
     "outputs_hidden": false
    },
    "scrolled": true
   },
   "outputs": [],
   "source": [
    "#Dropping Agency and agent column\n",
    "df2 = df.drop([\"agent\",\"agency\"], axis=1)"
   ]
  },
  {
   "cell_type": "markdown",
   "id": "556f65d4-f2af-4dac-9ea0-44ac841212de",
   "metadata": {
    "jp-MarkdownHeadingCollapsed": true
   },
   "source": [
    "### By BedRoom and Baths"
   ]
  },
  {
   "cell_type": "code",
   "execution_count": null,
   "id": "0b44e298-07b7-4b76-9f4e-d8df99f8cf6f",
   "metadata": {
    "scrolled": true
   },
   "outputs": [],
   "source": [
    "df2[(df2['baths']==0) | (df2['bedrooms']==0)]"
   ]
  },
  {
   "cell_type": "code",
   "execution_count": null,
   "id": "7901af42-aa39-4110-9daa-b06bc56d602c",
   "metadata": {},
   "outputs": [],
   "source": [
    "#droping entries having no bed and baths\n",
    "df2 = df2.drop(df2[(df2['baths']==0) | (df2['bedrooms']==0)].index)"
   ]
  },
  {
   "cell_type": "code",
   "execution_count": null,
   "id": "aa4dbdee-0bd7-48cc-a1ae-0e3096f35cf4",
   "metadata": {
    "scrolled": true
   },
   "outputs": [],
   "source": [
    "df2[df2['bedrooms']>13]"
   ]
  },
  {
   "cell_type": "code",
   "execution_count": null,
   "id": "1e7aa51c-b8e0-400c-8312-3834102465a8",
   "metadata": {
    "scrolled": true
   },
   "outputs": [],
   "source": [
    "df2 = df2.drop(df2[df2['bedrooms'] > 13].index)\n",
    "print(df2.shape)\n",
    "df2['baths'].unique()"
   ]
  },
  {
   "cell_type": "code",
   "execution_count": null,
   "id": "842119f1-4651-4f65-b619-55fd09e30e6b",
   "metadata": {},
   "outputs": [],
   "source": [
    "#We will also remove those having rooms > 3 and baths == 0, quite unusual\n",
    "df2 = df2.drop(df2[(df2['baths']==0) & (df2['bedrooms'] > 3)].index)"
   ]
  },
  {
   "cell_type": "code",
   "execution_count": null,
   "id": "9f57e53c-33b4-4762-a8db-d6a16c776fde",
   "metadata": {
    "scrolled": true
   },
   "outputs": [],
   "source": [
    "#Also dropping for those having baths > (rooms+3)\n",
    "df2[(df2['baths']) > (df2['bedrooms']+3)]"
   ]
  },
  {
   "cell_type": "code",
   "execution_count": null,
   "id": "118d5abb-f97f-4f61-bc13-7aaff36aba48",
   "metadata": {},
   "outputs": [],
   "source": [
    "df2 = df2.drop(df2[df2['baths']>(df2['bedrooms']+3)].index)\n",
    "df2.shape"
   ]
  },
  {
   "cell_type": "markdown",
   "id": "1f916269-2bc1-40a9-90f0-94c1018828e9",
   "metadata": {
    "jp-MarkdownHeadingCollapsed": true
   },
   "source": [
    "### Outliers "
   ]
  },
  {
   "cell_type": "code",
   "execution_count": null,
   "id": "912d0c28-ec53-4ded-af90-69d8aa3cbd7e",
   "metadata": {
    "ExecuteTime": {
     "end_time": "2023-11-25T17:09:32.458907Z",
     "start_time": "2023-11-25T17:09:32.418497Z"
    }
   },
   "outputs": [],
   "source": [
    "#No. of Non-duplicates (location key)\n",
    "values_after_deduplication = df['location_id'].nunique() \n",
    "print(values_after_deduplication)"
   ]
  },
  {
   "cell_type": "markdown",
   "id": "920fbc5c-da20-466e-ab5c-83cfa08b9f16",
   "metadata": {},
   "source": [
    "Droping entries having price < 3000 For Rent and price <100000 For Sale"
   ]
  },
  {
   "cell_type": "code",
   "execution_count": null,
   "id": "52175ea2-5048-4d3f-a51c-d2fc9d2a1095",
   "metadata": {
    "scrolled": true
   },
   "outputs": [],
   "source": [
    "df2 = df2.drop(df2[df2['price']<3000].index)"
   ]
  },
  {
   "cell_type": "code",
   "execution_count": null,
   "id": "15bd0d7c-698b-4567-a69f-6882f8ee9f88",
   "metadata": {},
   "outputs": [],
   "source": [
    "pd.set_option('display.max_columns', None)\n",
    "df2 = df2.drop(df2[(df2['price']<100000) & (df2['purpose']=='For Sale')].index) "
   ]
  },
  {
   "cell_type": "code",
   "execution_count": null,
   "id": "4f6e218f-c17c-418e-b407-6a35c41c55f4",
   "metadata": {},
   "outputs": [],
   "source": [
    "#Removing those having Area(marla) == 0\n",
    "df2 = df2.drop(df2[df2['Area(Marla)']==0].index)"
   ]
  },
  {
   "cell_type": "markdown",
   "id": "48bffa15-88eb-4f56-900f-d5fdc3b65c99",
   "metadata": {},
   "source": [
    "We will create another column 'price per marla', so that we can compare it with HomeTown avg. price, to remove outliers"
   ]
  },
  {
   "cell_type": "code",
   "execution_count": null,
   "id": "8dcd9d37-a55f-46af-9de1-0299b6aa8dd5",
   "metadata": {},
   "outputs": [],
   "source": [
    "df2['Price per Marla'] = df2['price'] / df2['Area(Marla)']"
   ]
  },
  {
   "cell_type": "code",
   "execution_count": null,
   "id": "7eb319fd-2f14-4d2a-97ed-2c26fce159bd",
   "metadata": {},
   "outputs": [],
   "source": [
    "#Droping price (marla) > 6,000,000\n",
    "df2 = df2.drop(df2[df2['Price per Marla']>6000000].index)"
   ]
  },
  {
   "cell_type": "code",
   "execution_count": null,
   "id": "1f775e9c-f06b-49ba-8709-2cfc4ec0f0d6",
   "metadata": {},
   "outputs": [],
   "source": [
    "len(df['location'].unique())"
   ]
  },
  {
   "cell_type": "code",
   "execution_count": null,
   "id": "049c16ca-8a68-478d-b971-624d8bcbdba2",
   "metadata": {
    "scrolled": true
   },
   "outputs": [],
   "source": [
    "#Removing any leading or trailing whitespaces from each location entry\n",
    "df['location'] = df['location'].apply(lambda x: x.strip()) \n",
    "\n",
    "#Count Occurence of each location value\n",
    "location_stats = df2['location'].value_counts(ascending=False)\n",
    "\n",
    "location_stats.head(40)"
   ]
  },
  {
   "cell_type": "markdown",
   "id": "a58a211a-89d4-4814-811a-2fbe7ceca007",
   "metadata": {},
   "source": [
    "But it is not mention which Bahria Town, Cantt or DHA Defence it is.\n",
    "We will now concat city with each of them"
   ]
  },
  {
   "cell_type": "code",
   "execution_count": null,
   "id": "027c3731-826a-46d6-ba3a-394e571dcd69",
   "metadata": {},
   "outputs": [],
   "source": [
    "locations = [\"Bahria Town\", \"Askari\", \"DHA Defence\",\"Gulberg\"]\n",
    "df2['location'] = np.where((df2['location'].isin(locations)), \n",
    "                              df2['location'] + ' ' + df2['city'],\n",
    "                              df2['location'])"
   ]
  },
  {
   "cell_type": "code",
   "execution_count": null,
   "id": "231ef6bb-6033-4e26-b127-35a85a86633e",
   "metadata": {
    "scrolled": true
   },
   "outputs": [],
   "source": [
    "#Count Occurence of each location value Once Again\n",
    "location_stats = df2['location'].value_counts(ascending=False)\n",
    "\n",
    "location_stats.head(40)"
   ]
  },
  {
   "cell_type": "markdown",
   "id": "4449ea2e-4728-4fcd-a069-90ede8567ef0",
   "metadata": {},
   "source": [
    "Crating 2 Seperate dataFrame For Sale and For Rent"
   ]
  },
  {
   "cell_type": "code",
   "execution_count": null,
   "id": "dee0b2cb-05f1-4182-aa5b-b78e65ca12b2",
   "metadata": {},
   "outputs": [],
   "source": [
    "df_sale = df2[df2[\"purpose\"]== \"For Sale\"]\n",
    "df_rent = df2[df2[\"purpose\"]== \"For Rent\"]\n",
    "df_rent"
   ]
  },
  {
   "cell_type": "raw",
   "id": "ff2c3a24-1c22-45d7-852c-39eb37441212",
   "metadata": {
    "scrolled": true
   },
   "source": [
    "\"\"\"\n",
    "# Define a function to calculate mean and standard deviation\n",
    "def calculate_mean_std(group):\n",
    "    group['Location Mean'] = group['Price per Marla'].mean()\n",
    "    group['Location Std'] = group['Price per Marla'].std()\n",
    "    return group\n",
    "\n",
    "# Apply the calculate_mean_std function to each group of locations\n",
    "df_sale = df_sale.groupby('location').apply(calculate_mean_std)\n",
    "\n",
    "# Reset the index of the resulting DataFrame\n",
    "df_sale.reset_index(drop=True, inplace=True)\n",
    "\"\"\""
   ]
  },
  {
   "cell_type": "code",
   "execution_count": null,
   "id": "6afb751d-32e5-4141-a681-c96f7c39c039",
   "metadata": {
    "scrolled": true
   },
   "outputs": [],
   "source": [
    "def identify_outliers(group):\n",
    "    #Droping value, Lower Bound = 10th Percentile & Upper Bound = 90th Perc\n",
    "    Q1 = group['Price per Marla'].quantile(0.10)\n",
    "    Q3 = group['Price per Marla'].quantile(0.90)\n",
    "    IQR = Q3 - Q1\n",
    "    return group[(group['Price per Marla'] >= Q1 - 1.5 * IQR) & \n",
    "                 (group['Price per Marla'] <= Q3 + 1.5 * IQR)]\n",
    "\n",
    "\n",
    "# Apply the filter_outliers function to each group of locations\n",
    "df_sale = df_sale.groupby('location').apply(identify_outliers)\n",
    "df_rent = df_rent.groupby('location').apply(identify_outliers)\n",
    "\n",
    "# Reset the index of the resulting DataFrame\n",
    "df_sale.reset_index(drop=True, inplace=True)\n",
    "df_rent.reset_index(drop=True, inplace=True)\n",
    "\n",
    "df_rent"
   ]
  },
  {
   "cell_type": "markdown",
   "id": "e449d575-b173-43ee-9309-63693db74138",
   "metadata": {},
   "source": [
    "### Droping Duplicates\n",
    "There are unusual duplicate values in this Dataset.\n",
    "We will drop these with location_key,"
   ]
  },
  {
   "cell_type": "code",
   "execution_count": null,
   "id": "74371d91-5310-470c-b9c8-aff7de11edfe",
   "metadata": {},
   "outputs": [],
   "source": [
    "#No. of Non-duplicates (location key)\n",
    "values_after_deduplication = df_rent['location_id'].nunique() \n",
    "print(\"df_Rent:\", values_after_deduplication)\n",
    "\n",
    "values_after_deduplication = df_sale['location_id'].nunique() \n",
    "print(\"df_sale:\", values_after_deduplication)"
   ]
  },
  {
   "cell_type": "markdown",
   "id": "b0e4123f-27ec-4a3d-8fd4-982e97c9f454",
   "metadata": {},
   "source": [
    "We will retain only 1 value for each location, although there might be more than 1 entries for same location (As there are many portions in Flats)"
   ]
  },
  {
   "cell_type": "code",
   "execution_count": null,
   "id": "d8b2ed1d-7ce5-49b3-93b7-c6b60116a2b4",
   "metadata": {
    "scrolled": true
   },
   "outputs": [],
   "source": [
    "#TO KEEP ONLY LATEST ENTRY FOR A LOCATION\n",
    "#Sort it by date and pick up the latest one\n",
    "\n",
    "df_sale['date_added'] = pd.to_datetime(df_sale['date_added']) \n",
    "df_sale = df_sale.sort_values(by=['location_id', 'date_added'], ascending=[True, False])\n",
    "df_sale = df_sale.drop_duplicates(subset='location_id', keep='first')\n",
    "df_sale"
   ]
  },
  {
   "cell_type": "code",
   "execution_count": null,
   "id": "9afa54f7-88bd-4200-9052-6eca5265e3e3",
   "metadata": {
    "scrolled": true
   },
   "outputs": [],
   "source": [
    "df_rent['date_added'] = pd.to_datetime(df_rent['date_added']) \n",
    "df_rent = df_rent.sort_values(by=['location_id', 'date_added'], ascending=[True, False])\n",
    "df_rent = df_rent.drop_duplicates(subset='location_id', keep='first')\n",
    "df_rent"
   ]
  },
  {
   "cell_type": "code",
   "execution_count": null,
   "id": "0f7cdfec-f55b-4278-ba9b-443a11aef86e",
   "metadata": {
    "scrolled": true
   },
   "outputs": [],
   "source": [
    "#Count Occurence of each location value in Sale df\n",
    "location_stats_sale = df_sale['location'].value_counts(ascending=False)\n",
    "\n",
    "location_stats_sale.head(40)"
   ]
  },
  {
   "cell_type": "code",
   "execution_count": null,
   "id": "643848cf-214f-48d1-b08c-2525d8049f9a",
   "metadata": {
    "scrolled": true
   },
   "outputs": [],
   "source": [
    "#Count Occurence of each location value in rent df\n",
    "location_stats_rent = df_rent['location'].value_counts(ascending=False)\n",
    "\n",
    "location_stats_rent.head(40)"
   ]
  },
  {
   "cell_type": "markdown",
   "id": "7bb0477f-36e1-4605-b881-f1e0d32cb521",
   "metadata": {},
   "source": [
    "# Data Visualize"
   ]
  },
  {
   "cell_type": "code",
   "execution_count": null,
   "id": "ae2d7aff-af0b-4de2-97b2-d8a56526b560",
   "metadata": {},
   "outputs": [],
   "source": [
    "import matplotlib.pyplot as plt\n",
    "\n",
    "import plotly.io as pio\n",
    "import plotly.express as px\n",
    "%matplotlib inline"
   ]
  },
  {
   "cell_type": "markdown",
   "id": "d73a56bb-929c-47ec-9ed5-da4b87478ed3",
   "metadata": {},
   "source": [
    "## Street Map"
   ]
  },
  {
   "cell_type": "code",
   "execution_count": null,
   "id": "799e9cc5-0071-43b6-9465-a85bd89412d7",
   "metadata": {},
   "outputs": [],
   "source": [
    "min_value = df_sale['Price per Marla'].min()\n",
    "max_value = df_sale['Price per Marla'].max()\n",
    "\n",
    "fig = px.scatter_mapbox(\n",
    "    df_sale,\n",
    "    lat=\"latitude\",\n",
    "    lon=\"longitude\",\n",
    "    hover_name=\"location_id\",\n",
    "    hover_data = [\"property_type\",\"price\",\"location\"],\n",
    "    color=\"Price per Marla\",\n",
    "    range_color=(min_value, max_value),\n",
    "    zoom=10\n",
    ")\n",
    "\n",
    "fig.update_layout(mapbox_style=\"open-street-map\")\n",
    "pio.show(fig)"
   ]
  },
  {
   "cell_type": "markdown",
   "id": "3cd86922-cc27-4412-a197-5e883761bdab",
   "metadata": {},
   "source": [
    "## Rooms vs Price Per Marla Plot (of Specific Location)"
   ]
  },
  {
   "cell_type": "code",
   "execution_count": null,
   "id": "af3125a3-1eae-4d8e-b5c3-69782d0ac69d",
   "metadata": {},
   "outputs": [],
   "source": [
    "def scatter_chart(df, location):\n",
    "    One_Four_Beds = df[(df['location'] == location) & (df['bedrooms'] >= 1) & (df['bedrooms'] <= 4)]\n",
    "    Four_plus_Beds = df[(df['location'] == location) & (df['bedrooms'] > 4)]\n",
    "\n",
    "    plt.scatter(One_Four_Beds['Area(Marla)'], One_Four_Beds['price']/100000, color='blue', label=\"1 to 4 Bedrooms\", s=50)\n",
    "    plt.scatter(Four_plus_Beds ['Area(Marla)'], Four_plus_Beds['price']/100000, marker='+', color=\"green\", label=\"4+ Bedrooms\", s=50)\n",
    "    plt.rcParams[\"figure.figsize\"] = (15,10)\n",
    "    plt.xlabel(\"Size per Marla\")\n",
    "    plt.ylabel(\"Price (Lac)\")\n",
    "    plt.title(location)\n",
    "    plt.legend()"
   ]
  },
  {
   "cell_type": "markdown",
   "id": "d49be5ac-a193-4f97-a248-3eb3591e759c",
   "metadata": {},
   "source": [
    "### For Sale House"
   ]
  },
  {
   "cell_type": "code",
   "execution_count": null,
   "id": "910c482b-28c9-4e42-a064-18328a558f8e",
   "metadata": {},
   "outputs": [],
   "source": [
    "scatter_chart(df_sale, \"Gulshan-e-Iqbal Town\")"
   ]
  },
  {
   "cell_type": "code",
   "execution_count": null,
   "id": "969cf98d-bc73-4783-8a8c-01d56dcfcb19",
   "metadata": {},
   "outputs": [],
   "source": [
    "scatter_chart(df_sale, \"Malir\")"
   ]
  },
  {
   "cell_type": "markdown",
   "id": "72d754a2-0904-4ca3-9b0c-efd0dfa31e53",
   "metadata": {
    "jp-MarkdownHeadingCollapsed": true
   },
   "source": [
    "### For Rent"
   ]
  },
  {
   "cell_type": "code",
   "execution_count": null,
   "id": "f71564fe-491a-4040-8892-e50a90430452",
   "metadata": {},
   "outputs": [],
   "source": [
    "scatter_chart(df_rent, \"E-11\")"
   ]
  },
  {
   "cell_type": "code",
   "execution_count": null,
   "id": "b76e01ec-88b1-49d5-81f1-83ca480a8896",
   "metadata": {},
   "outputs": [],
   "source": [
    "scatter_chart(df_rent, \"North Karachi\")"
   ]
  },
  {
   "cell_type": "markdown",
   "id": "4852bfb5-d51d-41be-9999-629787391fc4",
   "metadata": {},
   "source": [
    "## Plotting Most Expensive Locations in each City"
   ]
  },
  {
   "cell_type": "code",
   "execution_count": null,
   "id": "432d864a-89ac-4888-99d7-d5d38b73bfa4",
   "metadata": {},
   "outputs": [],
   "source": [
    "def expensive_locations(dataset, city_name):\n",
    "    # Dataset for the specified city\n",
    "    df_city = dataset[dataset['city'] == city_name]\n",
    "\n",
    "    counts = df_city['location'].value_counts()\n",
    "\n",
    "    # Only locations with more than 5 entries\n",
    "    valid_locations = counts[counts > 5].index\n",
    "    df_city = df_city[df_city['location'].isin(valid_locations)]\n",
    "\n",
    "    # Calculate avg price per Marla\n",
    "    df_expensive = df_city.groupby('location')['price'].mean().reset_index()\n",
    "\n",
    "    # Sorting locations by avg price in descending order\n",
    "    df_expensive = df_expensive.sort_values(by='price', ascending=False)\n",
    "\n",
    "    # Selecting only the top most expensive locations\n",
    "    df_top_locations = df_expensive.head(15)\n",
    "\n",
    "    plt.bar(df_top_locations['location'], df_top_locations['price'] / 100000, color='skyblue')\n",
    "    plt.xlabel('Location')\n",
    "    plt.ylabel('Average Price per Marla (Lac)')\n",
    "    plt.title(f' in {city_name}', fontsize=15)\n",
    "    plt.xticks(rotation=45, ha='right')"
   ]
  },
  {
   "cell_type": "markdown",
   "id": "d1e7e973-10b4-491c-8c1e-ae3c1a75c90a",
   "metadata": {},
   "source": [
    "### For Sale"
   ]
  },
  {
   "cell_type": "code",
   "execution_count": null,
   "id": "c27b4427-8025-4b78-bfcc-13b1c8a29a57",
   "metadata": {},
   "outputs": [],
   "source": [
    "plt.figure(figsize=(10, 12))\n",
    "plt.suptitle(\"For Sale\", fontsize = 20, y=1)\n",
    "\n",
    "plt.subplot(3, 1, 1)\n",
    "expensive_locations(df_sale, 'Karachi')\n",
    "\n",
    "plt.subplot(3, 1, 2)\n",
    "expensive_locations(df_sale, 'Lahore')\n",
    "\n",
    "plt.subplot(3, 1, 3)\n",
    "expensive_locations(df_sale, 'Islamabad')\n",
    "\n",
    "plt.tight_layout()\n",
    "plt.show()"
   ]
  },
  {
   "cell_type": "markdown",
   "id": "401a44a0-88c6-4032-bca0-9268b5082d48",
   "metadata": {},
   "source": [
    "### For Rent"
   ]
  },
  {
   "cell_type": "code",
   "execution_count": null,
   "id": "19bf1c62-3d9b-4fc7-8d33-a71271b6b8a1",
   "metadata": {},
   "outputs": [],
   "source": [
    "plt.figure(figsize=(15, 12))\n",
    "plt.suptitle(\"For Rent\", fontsize = 25, y=1, horizontalalignment='center')\n",
    "plt.subplot(2, 1, 1)\n",
    "expensive_locations(df_rent, 'Karachi')\n",
    "\n",
    "plt.subplot(2, 1, 2)\n",
    "expensive_locations(df_rent, 'Islamabad')\n",
    "\n",
    "plt.tight_layout()\n",
    "plt.show()"
   ]
  },
  {
   "cell_type": "code",
   "execution_count": null,
   "id": "be946a55-651c-478c-b51b-52a084274d03",
   "metadata": {},
   "outputs": [],
   "source": []
  },
  {
   "cell_type": "code",
   "execution_count": null,
   "id": "ffc541fa-24a6-48a1-aff8-cdd45a8cec9f",
   "metadata": {},
   "outputs": [],
   "source": [
    "df_sale"
   ]
  },
  {
   "cell_type": "markdown",
   "id": "2ed297e0-55f5-4579-b623-855a838147fb",
   "metadata": {},
   "source": [
    "## Plotting Different Property Types"
   ]
  },
  {
   "cell_type": "code",
   "execution_count": null,
   "id": "d428e555-db62-4e42-9a9c-dac683fa4ceb",
   "metadata": {},
   "outputs": [],
   "source": [
    "df_sale['property_type'].unique()"
   ]
  },
  {
   "cell_type": "code",
   "execution_count": null,
   "id": "28b5d4ed-36d0-4354-a091-0e16bd1dcc6b",
   "metadata": {},
   "outputs": [],
   "source": [
    "#df2[df2['property_type']=='Farm House']"
   ]
  },
  {
   "cell_type": "markdown",
   "id": "14d08fe7-07f2-4cff-afa0-d0a6ee0bf0a6",
   "metadata": {},
   "source": [
    "### For Sale"
   ]
  },
  {
   "cell_type": "code",
   "execution_count": null,
   "id": "0a760f6a-07d8-442f-b0f9-b67d71a734c7",
   "metadata": {},
   "outputs": [],
   "source": [
    "df_sale_propTypes = df_sale['property_type'].value_counts()\n",
    "pd.DataFrame(df_sale_propTypes)"
   ]
  },
  {
   "cell_type": "markdown",
   "id": "8bfab00f-1b19-4535-9ac5-2b5f7a098808",
   "metadata": {},
   "source": [
    "## For Rent"
   ]
  },
  {
   "cell_type": "code",
   "execution_count": null,
   "id": "0262821b-b03f-47c7-a86b-63c314b4eaa7",
   "metadata": {},
   "outputs": [],
   "source": [
    "df_rent_propTypes = df_rent['property_type'].value_counts()\n",
    "pd.DataFrame(df_rent_propTypes)"
   ]
  },
  {
   "cell_type": "code",
   "execution_count": null,
   "id": "3a85d534-3fa5-42c0-9a06-04994b0cab18",
   "metadata": {},
   "outputs": [],
   "source": []
  }
 ],
 "metadata": {
  "kernelspec": {
   "display_name": "Python 3 (ipykernel)",
   "language": "python",
   "name": "python3"
  },
  "language_info": {
   "codemirror_mode": {
    "name": "ipython",
    "version": 3
   },
   "file_extension": ".py",
   "mimetype": "text/x-python",
   "name": "python",
   "nbconvert_exporter": "python",
   "pygments_lexer": "ipython3",
   "version": "3.11.5"
  }
 },
 "nbformat": 4,
 "nbformat_minor": 5
}
